{
 "cells": [
  {
   "cell_type": "markdown",
   "metadata": {},
   "source": [
    "## Import Libraries"
   ]
  },
  {
   "cell_type": "code",
   "execution_count": 2,
   "metadata": {},
   "outputs": [],
   "source": [
    "import numpy as np\n",
    "import pandas as pd\n",
    "import matplotlib.pyplot as plt\n",
    "import seaborn as sns\n",
    "import sklearn\n",
    "import nltk\n",
    "import string, re\n",
    "import gc # garbage collector to manage RAM usage\n",
    "from nltk.tokenize import TweetTokenizer\n",
    "from nltk.corpus import stopwords\n",
    "from nltk.stem import WordNetLemmatizer\n",
    "from sklearn.model_selection import train_test_split\n",
    "from sklearn.feature_extraction.text import CountVectorizer\n",
    "from sklearn.naive_bayes import MultinomialNB\n",
    "from sklearn.metrics import confusion_matrix, ConfusionMatrixDisplay, classification_report\n",
    "\n",
    "%matplotlib inline"
   ]
  },
  {
   "cell_type": "code",
   "execution_count": 3,
   "metadata": {},
   "outputs": [
    {
     "data": {
      "text/html": [
       "<div>\n",
       "<style scoped>\n",
       "    .dataframe tbody tr th:only-of-type {\n",
       "        vertical-align: middle;\n",
       "    }\n",
       "\n",
       "    .dataframe tbody tr th {\n",
       "        vertical-align: top;\n",
       "    }\n",
       "\n",
       "    .dataframe thead th {\n",
       "        text-align: right;\n",
       "    }\n",
       "</style>\n",
       "<table border=\"1\" class=\"dataframe\">\n",
       "  <thead>\n",
       "    <tr style=\"text-align: right;\">\n",
       "      <th></th>\n",
       "      <th>id</th>\n",
       "      <th>label</th>\n",
       "      <th>tweet</th>\n",
       "    </tr>\n",
       "  </thead>\n",
       "  <tbody>\n",
       "    <tr>\n",
       "      <th>0</th>\n",
       "      <td>1</td>\n",
       "      <td>0</td>\n",
       "      <td>@user when a father is dysfunctional and is s...</td>\n",
       "    </tr>\n",
       "    <tr>\n",
       "      <th>1</th>\n",
       "      <td>2</td>\n",
       "      <td>0</td>\n",
       "      <td>@user @user thanks for #lyft credit i can't us...</td>\n",
       "    </tr>\n",
       "    <tr>\n",
       "      <th>2</th>\n",
       "      <td>3</td>\n",
       "      <td>0</td>\n",
       "      <td>bihday your majesty</td>\n",
       "    </tr>\n",
       "    <tr>\n",
       "      <th>3</th>\n",
       "      <td>4</td>\n",
       "      <td>0</td>\n",
       "      <td>#model   i love u take with u all the time in ...</td>\n",
       "    </tr>\n",
       "    <tr>\n",
       "      <th>4</th>\n",
       "      <td>5</td>\n",
       "      <td>0</td>\n",
       "      <td>factsguide: society now    #motivation</td>\n",
       "    </tr>\n",
       "  </tbody>\n",
       "</table>\n",
       "</div>"
      ],
      "text/plain": [
       "   id  label                                              tweet\n",
       "0   1      0   @user when a father is dysfunctional and is s...\n",
       "1   2      0  @user @user thanks for #lyft credit i can't us...\n",
       "2   3      0                                bihday your majesty\n",
       "3   4      0  #model   i love u take with u all the time in ...\n",
       "4   5      0             factsguide: society now    #motivation"
      ]
     },
     "execution_count": 3,
     "metadata": {},
     "output_type": "execute_result"
    }
   ],
   "source": [
    "tweets = pd.read_csv('train 2.csv')\n",
    "tweets.head()"
   ]
  },
  {
   "cell_type": "code",
   "execution_count": 4,
   "metadata": {},
   "outputs": [
    {
     "data": {
      "text/plain": [
       "0    29720\n",
       "1     2242\n",
       "Name: Label, dtype: int64"
      ]
     },
     "execution_count": 4,
     "metadata": {},
     "output_type": "execute_result"
    }
   ],
   "source": [
    "# Rename columns to avoid clashes with the words in vocab later\n",
    "tweets.rename(columns={'label':'Label', 'tweet':'Tweet'}, inplace=True)\n",
    "\n",
    "# Drop column 'id'\n",
    "tweets.drop(columns='id', inplace=True)\n",
    "\n",
    "# Check distribution of class of tweets\n",
    "tweets.Label.value_counts()"
   ]
  },
  {
   "cell_type": "code",
   "execution_count": 5,
   "metadata": {},
   "outputs": [
    {
     "name": "stdout",
     "output_type": "stream",
     "text": [
      "the number of training data is 25569\n",
      "the number of test data is 6393\n"
     ]
    },
    {
     "data": {
      "text/html": [
       "<div>\n",
       "<style scoped>\n",
       "    .dataframe tbody tr th:only-of-type {\n",
       "        vertical-align: middle;\n",
       "    }\n",
       "\n",
       "    .dataframe tbody tr th {\n",
       "        vertical-align: top;\n",
       "    }\n",
       "\n",
       "    .dataframe thead th {\n",
       "        text-align: right;\n",
       "    }\n",
       "</style>\n",
       "<table border=\"1\" class=\"dataframe\">\n",
       "  <thead>\n",
       "    <tr style=\"text-align: right;\">\n",
       "      <th></th>\n",
       "      <th>Tweet</th>\n",
       "      <th>Label</th>\n",
       "    </tr>\n",
       "  </thead>\n",
       "  <tbody>\n",
       "    <tr>\n",
       "      <th>0</th>\n",
       "      <td>this is chess #mlittle801 #breezeslc #fitness ...</td>\n",
       "      <td>0</td>\n",
       "    </tr>\n",
       "    <tr>\n",
       "      <th>1</th>\n",
       "      <td>@user @user @user @user @user  i bet thats wh...</td>\n",
       "      <td>0</td>\n",
       "    </tr>\n",
       "    <tr>\n",
       "      <th>2</th>\n",
       "      <td>happiness is @user  so find your happiness tod...</td>\n",
       "      <td>0</td>\n",
       "    </tr>\n",
       "    <tr>\n",
       "      <th>3</th>\n",
       "      <td>@user &amp;lt;3 &amp;lt;3 listen to my most beautiful ...</td>\n",
       "      <td>0</td>\n",
       "    </tr>\n",
       "    <tr>\n",
       "      <th>4</th>\n",
       "      <td>free @user !! #jesuismilo   !!</td>\n",
       "      <td>0</td>\n",
       "    </tr>\n",
       "  </tbody>\n",
       "</table>\n",
       "</div>"
      ],
      "text/plain": [
       "                                               Tweet  Label\n",
       "0  this is chess #mlittle801 #breezeslc #fitness ...      0\n",
       "1   @user @user @user @user @user  i bet thats wh...      0\n",
       "2  happiness is @user  so find your happiness tod...      0\n",
       "3  @user &lt;3 &lt;3 listen to my most beautiful ...      0\n",
       "4                    free @user !! #jesuismilo   !!       0"
      ]
     },
     "execution_count": 5,
     "metadata": {},
     "output_type": "execute_result"
    }
   ],
   "source": [
    "X_train, X_test, y_train, y_test = train_test_split(tweets['Tweet'], tweets['Label'], test_size=0.2, \n",
    "                                                    stratify=tweets['Label'], random_state=1)\n",
    "\n",
    "# Combine the results into train and test dataframe\n",
    "tweets_train = pd.concat([X_train, y_train], axis=1).reset_index(drop=True)\n",
    "tweets_test = pd.concat([X_test, y_test], axis=1).reset_index(drop=True)\n",
    "\n",
    "print(f'the number of training data is {len(tweets_train)}')\n",
    "print(f'the number of test data is {len(tweets_test)}')\n",
    "tweets_train.head()"
   ]
  },
  {
   "cell_type": "markdown",
   "metadata": {},
   "source": [
    "## Data Preprocessing"
   ]
  },
  {
   "cell_type": "code",
   "execution_count": 6,
   "metadata": {},
   "outputs": [],
   "source": [
    "def clean_tweet(tweet):\n",
    "    \"\"\"\n",
    "    Tokenize tweets into words. Convert texts to lower case.\n",
    "    Remove hashtags, punctuations, stopwords, website links, extra spaces, non-alphanumeric characters and \n",
    "    single character. Lemmatize texts.\n",
    "    \"\"\"\n",
    "\n",
    "    twt_tokenizer = TweetTokenizer(strip_handles=True) # remove username handles\n",
    "    tokens = [token for token in twt_tokenizer.tokenize(tweet)]\n",
    "    \n",
    "    # Combine stopwords and punctuation\n",
    "    stops = stopwords.words(\"english\") + list(string.punctuation)\n",
    "\n",
    "    # special characters\n",
    "    s_chars = '¥₽ÏïŰŬĎŸæ₿₪ÚŇÀèÅ”ĜåŽÖéříÿý€ŝĤ₹áŜŮÂ₴ûÌÇšŘúüëÓ₫ŠčÎŤÆÒœ₩öËäøÍťìĈôàĥÝ¢ç“žðÙÊĉŭÈŒÐÉÔĵùÁů„âÄűĴóêĝÞîØòď฿ČÜþňÛ'\n",
    "    \n",
    "    # Create lemmatizer\n",
    "    lemmatizer = WordNetLemmatizer()\n",
    "    \n",
    "    tokens_no_hashtag = [re.sub(r'#', '', token) for token in tokens]\n",
    "    tokens_no_stopwords = [token.lower() for token in tokens_no_hashtag if token.lower() not in stops]\n",
    "    tokens_no_url = [re.sub(r'http\\S+', '', token) for token in tokens_no_stopwords]\n",
    "    tokens_no_url = [re.sub(r'www\\S+', '', token) for token in tokens_no_url]\n",
    "    tokens_no_special_char = [re.sub(r'[{}]'.format(s_chars), '', token) for token in tokens_no_url]\n",
    "    tokens_no_extra_space = [re.sub(r'\\s\\s+', '', token) for token in tokens_no_special_char]\n",
    "    tokens_alnum = [token for token in tokens_no_extra_space if token.isalnum()]\n",
    "    tokens_lemma = [lemmatizer.lemmatize(token) for token in tokens_alnum]\n",
    "    tokens_final = [token for token in tokens_lemma if len(token) > 1]\n",
    "    \n",
    "    return tokens_final"
   ]
  },
  {
   "cell_type": "code",
   "execution_count": 7,
   "metadata": {},
   "outputs": [
    {
     "data": {
      "text/html": [
       "<div>\n",
       "<style scoped>\n",
       "    .dataframe tbody tr th:only-of-type {\n",
       "        vertical-align: middle;\n",
       "    }\n",
       "\n",
       "    .dataframe tbody tr th {\n",
       "        vertical-align: top;\n",
       "    }\n",
       "\n",
       "    .dataframe thead th {\n",
       "        text-align: right;\n",
       "    }\n",
       "</style>\n",
       "<table border=\"1\" class=\"dataframe\">\n",
       "  <thead>\n",
       "    <tr style=\"text-align: right;\">\n",
       "      <th></th>\n",
       "      <th>Tweet</th>\n",
       "      <th>Label</th>\n",
       "    </tr>\n",
       "  </thead>\n",
       "  <tbody>\n",
       "    <tr>\n",
       "      <th>0</th>\n",
       "      <td>[chess, mlittle801, breezeslc, fitness, nofilt...</td>\n",
       "      <td>0</td>\n",
       "    </tr>\n",
       "    <tr>\n",
       "      <th>1</th>\n",
       "      <td>[bet, thats, left, feeding, think, actually, b...</td>\n",
       "      <td>0</td>\n",
       "    </tr>\n",
       "    <tr>\n",
       "      <th>2</th>\n",
       "      <td>[happiness, find, happiness, today, happiness,...</td>\n",
       "      <td>0</td>\n",
       "    </tr>\n",
       "    <tr>\n",
       "      <th>3</th>\n",
       "      <td>[listen, beautiful, best, friend, singing, ama...</td>\n",
       "      <td>0</td>\n",
       "    </tr>\n",
       "    <tr>\n",
       "      <th>4</th>\n",
       "      <td>[free, jesuismilo]</td>\n",
       "      <td>0</td>\n",
       "    </tr>\n",
       "  </tbody>\n",
       "</table>\n",
       "</div>"
      ],
      "text/plain": [
       "                                               Tweet  Label\n",
       "0  [chess, mlittle801, breezeslc, fitness, nofilt...      0\n",
       "1  [bet, thats, left, feeding, think, actually, b...      0\n",
       "2  [happiness, find, happiness, today, happiness,...      0\n",
       "3  [listen, beautiful, best, friend, singing, ama...      0\n",
       "4                                 [free, jesuismilo]      0"
      ]
     },
     "execution_count": 7,
     "metadata": {},
     "output_type": "execute_result"
    }
   ],
   "source": [
    "tweets_train['Tweet'] = tweets_train['Tweet'].apply(clean_tweet)\n",
    "tweets_train.head()"
   ]
  },
  {
   "cell_type": "code",
   "execution_count": 8,
   "metadata": {},
   "outputs": [
    {
     "name": "stdout",
     "output_type": "stream",
     "text": [
      "Number of vocabularies in the training set is 31426\n"
     ]
    }
   ],
   "source": [
    "vocab = []\n",
    "\n",
    "for index, value in tweets_train['Tweet'].items():\n",
    "    for word in value:\n",
    "        vocab.append(word)\n",
    "        \n",
    "# Transform vocab from list to set to remove duplicate words\n",
    "vocab = list(set(vocab))\n",
    "\n",
    "print(\"Number of vocabularies in the training set is {}\".format(len(vocab)))"
   ]
  },
  {
   "cell_type": "code",
   "execution_count": 9,
   "metadata": {},
   "outputs": [
    {
     "data": {
      "text/plain": [
       "<25569x31426 sparse matrix of type '<class 'numpy.int64'>'\n",
       "\twith 184788 stored elements in Compressed Sparse Row format>"
      ]
     },
     "execution_count": 9,
     "metadata": {},
     "output_type": "execute_result"
    }
   ],
   "source": [
    "# Combine all the tweets into a single list\n",
    "corpus = tweets_train['Tweet'].apply(lambda x:' '.join(x))\n",
    "\n",
    "# Fit CountVectorizer\n",
    "vectorizer = CountVectorizer()\n",
    "X_train_wc = vectorizer.fit_transform(corpus)\n",
    "X_train_wc"
   ]
  },
  {
   "cell_type": "code",
   "execution_count": 10,
   "metadata": {},
   "outputs": [
    {
     "data": {
      "text/html": [
       "<div>\n",
       "<style scoped>\n",
       "    .dataframe tbody tr th:only-of-type {\n",
       "        vertical-align: middle;\n",
       "    }\n",
       "\n",
       "    .dataframe tbody tr th {\n",
       "        vertical-align: top;\n",
       "    }\n",
       "\n",
       "    .dataframe thead th {\n",
       "        text-align: right;\n",
       "    }\n",
       "</style>\n",
       "<table border=\"1\" class=\"dataframe\">\n",
       "  <thead>\n",
       "    <tr style=\"text-align: right;\">\n",
       "      <th></th>\n",
       "      <th>Tweet</th>\n",
       "      <th>Label</th>\n",
       "      <th>000</th>\n",
       "      <th>001</th>\n",
       "      <th>003junior</th>\n",
       "      <th>00h30</th>\n",
       "      <th>01</th>\n",
       "      <th>0161</th>\n",
       "      <th>019</th>\n",
       "      <th>01926889917</th>\n",
       "      <th>...</th>\n",
       "      <th>ªvotetrump</th>\n",
       "      <th>ªã</th>\n",
       "      <th>µgod</th>\n",
       "      <th>µã</th>\n",
       "      <th>ºit</th>\n",
       "      <th>ºsoffierose</th>\n",
       "      <th>ºthat</th>\n",
       "      <th>ºwhy</th>\n",
       "      <th>ºº</th>\n",
       "      <th>ºã</th>\n",
       "    </tr>\n",
       "  </thead>\n",
       "  <tbody>\n",
       "    <tr>\n",
       "      <th>0</th>\n",
       "      <td>[chess, mlittle801, breezeslc, fitness, nofilt...</td>\n",
       "      <td>0</td>\n",
       "      <td>0</td>\n",
       "      <td>0</td>\n",
       "      <td>0</td>\n",
       "      <td>0</td>\n",
       "      <td>0</td>\n",
       "      <td>0</td>\n",
       "      <td>0</td>\n",
       "      <td>0</td>\n",
       "      <td>...</td>\n",
       "      <td>0</td>\n",
       "      <td>0</td>\n",
       "      <td>0</td>\n",
       "      <td>0</td>\n",
       "      <td>0</td>\n",
       "      <td>0</td>\n",
       "      <td>0</td>\n",
       "      <td>0</td>\n",
       "      <td>0</td>\n",
       "      <td>0</td>\n",
       "    </tr>\n",
       "    <tr>\n",
       "      <th>1</th>\n",
       "      <td>[bet, thats, left, feeding, think, actually, b...</td>\n",
       "      <td>0</td>\n",
       "      <td>0</td>\n",
       "      <td>0</td>\n",
       "      <td>0</td>\n",
       "      <td>0</td>\n",
       "      <td>0</td>\n",
       "      <td>0</td>\n",
       "      <td>0</td>\n",
       "      <td>0</td>\n",
       "      <td>...</td>\n",
       "      <td>0</td>\n",
       "      <td>0</td>\n",
       "      <td>0</td>\n",
       "      <td>0</td>\n",
       "      <td>0</td>\n",
       "      <td>0</td>\n",
       "      <td>0</td>\n",
       "      <td>0</td>\n",
       "      <td>0</td>\n",
       "      <td>0</td>\n",
       "    </tr>\n",
       "    <tr>\n",
       "      <th>2</th>\n",
       "      <td>[happiness, find, happiness, today, happiness,...</td>\n",
       "      <td>0</td>\n",
       "      <td>0</td>\n",
       "      <td>0</td>\n",
       "      <td>0</td>\n",
       "      <td>0</td>\n",
       "      <td>0</td>\n",
       "      <td>0</td>\n",
       "      <td>0</td>\n",
       "      <td>0</td>\n",
       "      <td>...</td>\n",
       "      <td>0</td>\n",
       "      <td>0</td>\n",
       "      <td>0</td>\n",
       "      <td>0</td>\n",
       "      <td>0</td>\n",
       "      <td>0</td>\n",
       "      <td>0</td>\n",
       "      <td>0</td>\n",
       "      <td>0</td>\n",
       "      <td>0</td>\n",
       "    </tr>\n",
       "    <tr>\n",
       "      <th>3</th>\n",
       "      <td>[listen, beautiful, best, friend, singing, ama...</td>\n",
       "      <td>0</td>\n",
       "      <td>0</td>\n",
       "      <td>0</td>\n",
       "      <td>0</td>\n",
       "      <td>0</td>\n",
       "      <td>0</td>\n",
       "      <td>0</td>\n",
       "      <td>0</td>\n",
       "      <td>0</td>\n",
       "      <td>...</td>\n",
       "      <td>0</td>\n",
       "      <td>0</td>\n",
       "      <td>0</td>\n",
       "      <td>0</td>\n",
       "      <td>0</td>\n",
       "      <td>0</td>\n",
       "      <td>0</td>\n",
       "      <td>0</td>\n",
       "      <td>0</td>\n",
       "      <td>0</td>\n",
       "    </tr>\n",
       "    <tr>\n",
       "      <th>4</th>\n",
       "      <td>[free, jesuismilo]</td>\n",
       "      <td>0</td>\n",
       "      <td>0</td>\n",
       "      <td>0</td>\n",
       "      <td>0</td>\n",
       "      <td>0</td>\n",
       "      <td>0</td>\n",
       "      <td>0</td>\n",
       "      <td>0</td>\n",
       "      <td>0</td>\n",
       "      <td>...</td>\n",
       "      <td>0</td>\n",
       "      <td>0</td>\n",
       "      <td>0</td>\n",
       "      <td>0</td>\n",
       "      <td>0</td>\n",
       "      <td>0</td>\n",
       "      <td>0</td>\n",
       "      <td>0</td>\n",
       "      <td>0</td>\n",
       "      <td>0</td>\n",
       "    </tr>\n",
       "  </tbody>\n",
       "</table>\n",
       "<p>5 rows × 31428 columns</p>\n",
       "</div>"
      ],
      "text/plain": [
       "                                               Tweet  Label  000  001  \\\n",
       "0  [chess, mlittle801, breezeslc, fitness, nofilt...      0    0    0   \n",
       "1  [bet, thats, left, feeding, think, actually, b...      0    0    0   \n",
       "2  [happiness, find, happiness, today, happiness,...      0    0    0   \n",
       "3  [listen, beautiful, best, friend, singing, ama...      0    0    0   \n",
       "4                                 [free, jesuismilo]      0    0    0   \n",
       "\n",
       "   003junior  00h30  01  0161  019  01926889917  ...  ªvotetrump  ªã  µgod  \\\n",
       "0          0      0   0     0    0            0  ...           0   0     0   \n",
       "1          0      0   0     0    0            0  ...           0   0     0   \n",
       "2          0      0   0     0    0            0  ...           0   0     0   \n",
       "3          0      0   0     0    0            0  ...           0   0     0   \n",
       "4          0      0   0     0    0            0  ...           0   0     0   \n",
       "\n",
       "   µã  ºit  ºsoffierose  ºthat  ºwhy  ºº  ºã  \n",
       "0   0    0            0      0     0   0   0  \n",
       "1   0    0            0      0     0   0   0  \n",
       "2   0    0            0      0     0   0   0  \n",
       "3   0    0            0      0     0   0   0  \n",
       "4   0    0            0      0     0   0   0  \n",
       "\n",
       "[5 rows x 31428 columns]"
      ]
     },
     "execution_count": 10,
     "metadata": {},
     "output_type": "execute_result"
    }
   ],
   "source": [
    "vocab_counts = pd.DataFrame(X_train_wc.toarray(), columns=vectorizer.get_feature_names_out())\n",
    "\n",
    "# Concatenate vocab_counts with the original tweets_train dataframe\n",
    "tweets_train = pd.concat([tweets_train, vocab_counts], axis=1)\n",
    "tweets_train.head()"
   ]
  },
  {
   "cell_type": "code",
   "execution_count": 11,
   "metadata": {},
   "outputs": [
    {
     "name": "stdout",
     "output_type": "stream",
     "text": [
      "Shape of X_train: (25569, 31426)\n",
      "Shape of y_train: (25569,)\n",
      "Shape of X_test: (6393, 31426)\n",
      "Shape of y_test: (6393,)\n"
     ]
    }
   ],
   "source": [
    "# Convert y_train and y_test to array\n",
    "y_train = np.array(tweets_train['Label'])\n",
    "y_test = np.array(tweets_test['Label'])\n",
    "\n",
    "# Create X_test_wc using sklearn CountVectorizer\n",
    "corpus = tweets_test['Tweet'].apply(clean_tweet).apply(lambda x:' '.join(x))\n",
    "X_test_wc = vectorizer.transform(corpus)\n",
    "\n",
    "# Ensure the shape of X, y in training and test set is correct\n",
    "print(\"Shape of X_train: {}\".format(X_train_wc.shape))\n",
    "print(\"Shape of y_train: {}\".format(y_train.shape))\n",
    "print(\"Shape of X_test: {}\".format(X_test_wc.shape))\n",
    "print(\"Shape of y_test: {}\".format(y_test.shape))"
   ]
  },
  {
   "cell_type": "code",
   "execution_count": 12,
   "metadata": {},
   "outputs": [
    {
     "data": {
      "text/plain": [
       "0.9596433599249179"
      ]
     },
     "execution_count": 12,
     "metadata": {},
     "output_type": "execute_result"
    }
   ],
   "source": [
    "clf = MultinomialNB() \n",
    "clf.fit(X_train_wc, y_train)\n",
    "clf.score(X_test_wc, y_test)"
   ]
  },
  {
   "cell_type": "code",
   "execution_count": 13,
   "metadata": {},
   "outputs": [
    {
     "data": {
      "image/png": "[encoded data removed]",
      "text/plain": [
       "<Figure size 432x288 with 2 Axes>"
      ]
     },
     "metadata": {
      "needs_background": "light"
     },
     "output_type": "display_data"
    }
   ],
   "source": [
    "# Generate confusion matrix plot\n",
    "y_pred = clf.predict(X_test_wc)\n",
    "cm = confusion_matrix(y_test, y_pred, labels=clf.classes_)\n",
    "disp = ConfusionMatrixDisplay(confusion_matrix=cm, display_labels=clf.classes_)\n",
    "disp.plot()\n",
    "plt.show()"
   ]
  },
  {
   "cell_type": "markdown",
   "metadata": {},
   "source": [
    "### Things to improve on\n",
    "- Tune the hyperparameters\n",
    "- Try using term frequency-inverse document frequency (tf-idf) instead of feature counts to represent the features. This will lower the weights of word that is similar across all the tweets.\n",
    "- Consider methods that trim down the vocabularies (e.g., synonym finding, remove words with occurrence lower than a certain threshold, etc.). Currently, we have nearly 33,000 features and many of them might not be useful."
   ]
  },
  {
   "cell_type": "code",
   "execution_count": 14,
   "metadata": {},
   "outputs": [
    {
     "data": {
      "text/plain": [
       "0.9655873611762865"
      ]
     },
     "execution_count": 14,
     "metadata": {},
     "output_type": "execute_result"
    }
   ],
   "source": [
    "# Tuning the hyperparameters\n",
    "from sklearn import svm\n",
    "from sklearn.model_selection import GridSearchCV, cross_val_score\n",
    "\n",
    "parameters = {'kernel':('linear', 'rbf'), 'C':[1, 10, 100]}\n",
    "svc = svm.SVC()\n",
    "clf = GridSearchCV(svc, parameters)\n",
    "clf.fit(X_train_wc, y_train)\n",
    "clf.score(X_test_wc, y_test)"
   ]
  },
  {
   "cell_type": "code",
   "execution_count": 15,
   "metadata": {},
   "outputs": [
    {
     "data": {
      "text/plain": [
       "{'C': 10, 'kernel': 'rbf'}"
      ]
     },
     "execution_count": 15,
     "metadata": {},
     "output_type": "execute_result"
    }
   ],
   "source": [
    "clf.best_params_"
   ]
  },
  {
   "cell_type": "code",
   "execution_count": 26,
   "metadata": {},
   "outputs": [
    {
     "data": {
      "text/plain": [
       "'\\ndef search_cv(x_train, y_train, x_test, y_test, model=GradientBoostingClassifier(n_estimators=30)):\\n    # grid search\\n    parameters = {\\'kernel\\': (\\'linear\\', \\'rbf\\'), \\'C\\': [1, 2, 4], \\'gamma\\': [0.125, 0.25, 0.5, 1, 2, 4]}\\n    clf = GridSearchCV(model, param_grid=parameters)\\n    grid_search = clf.fit(x_train, y_train)\\n    # result\\n    print(\"Best score: %0.3f\" % grid_search.best_score_)\\n    print(grid_search.best_estimator_)\\n\\n    # best prarams\\n    print(\\'best prarams:\\', clf.best_params_)\\n\\n    print(\\'-----grid search end------------\\')\\n    print(\\'on all train set\\')\\n    scores = cross_val_score(grid_search.best_estimator_, x_train, y_train, cv=3, scoring=\\'accuracy\\')\\n    print(scores.mean(), scores)\\n    print(\\'on test set\\')\\n    scores = cross_val_score(grid_search.best_estimator_, x_test, y_test, cv=3, scoring=\\'accuracy\\')\\n    print(scores.mean(), scores) \\n'"
      ]
     },
     "execution_count": 26,
     "metadata": {},
     "output_type": "execute_result"
    }
   ],
   "source": [
    "# gridsearch function for future use\n",
    "\"\"\"\n",
    "def search_cv(x_train, y_train, x_test, y_test, model=GradientBoostingClassifier(n_estimators=30)):\n",
    "    # grid search\n",
    "    parameters = {'kernel': ('linear', 'rbf'), 'C': [1, 2, 4], 'gamma': [0.125, 0.25, 0.5, 1, 2, 4]}\n",
    "    clf = GridSearchCV(model, param_grid=parameters)\n",
    "    grid_search = clf.fit(x_train, y_train)\n",
    "    # result\n",
    "    print(\"Best score: %0.3f\" % grid_search.best_score_)\n",
    "    print(grid_search.best_estimator_)\n",
    "\n",
    "    # best prarams\n",
    "    print('best prarams:', clf.best_params_)\n",
    "\n",
    "    print('-----grid search end------------')\n",
    "    print('on all train set')\n",
    "    scores = cross_val_score(grid_search.best_estimator_, x_train, y_train, cv=3, scoring='accuracy')\n",
    "    print(scores.mean(), scores)\n",
    "    print('on test set')\n",
    "    scores = cross_val_score(grid_search.best_estimator_, x_test, y_test, cv=3, scoring='accuracy')\n",
    "    print(scores.mean(), scores) \n",
    "\"\"\""
   ]
  },
  {
   "cell_type": "code",
   "execution_count": 17,
   "metadata": {},
   "outputs": [
    {
     "data": {
      "text/plain": [
       "<25569x31426 sparse matrix of type '<class 'numpy.float64'>'\n",
       "\twith 184788 stored elements in Compressed Sparse Row format>"
      ]
     },
     "execution_count": 17,
     "metadata": {},
     "output_type": "execute_result"
    }
   ],
   "source": [
    "# td-idf\n",
    "from sklearn.feature_extraction.text import TfidfVectorizer\n",
    "\n",
    "# Combine all the tweets into a single list\n",
    "corpus = tweets_train['Tweet'].apply(lambda x:' '.join(x))\n",
    "\n",
    "# Fit TfidfVectorizer\n",
    "vectorizer = TfidfVectorizer()\n",
    "X_train_wc = vectorizer.fit_transform(corpus)\n",
    "X_train_wc"
   ]
  },
  {
   "cell_type": "code",
   "execution_count": 18,
   "metadata": {},
   "outputs": [
    {
     "data": {
      "text/html": [
       "<div>\n",
       "<style scoped>\n",
       "    .dataframe tbody tr th:only-of-type {\n",
       "        vertical-align: middle;\n",
       "    }\n",
       "\n",
       "    .dataframe tbody tr th {\n",
       "        vertical-align: top;\n",
       "    }\n",
       "\n",
       "    .dataframe thead th {\n",
       "        text-align: right;\n",
       "    }\n",
       "</style>\n",
       "<table border=\"1\" class=\"dataframe\">\n",
       "  <thead>\n",
       "    <tr style=\"text-align: right;\">\n",
       "      <th></th>\n",
       "      <th>Tweet</th>\n",
       "      <th>Label</th>\n",
       "      <th>000</th>\n",
       "      <th>001</th>\n",
       "      <th>003junior</th>\n",
       "      <th>00h30</th>\n",
       "      <th>01</th>\n",
       "      <th>0161</th>\n",
       "      <th>019</th>\n",
       "      <th>01926889917</th>\n",
       "      <th>...</th>\n",
       "      <th>ªvotetrump</th>\n",
       "      <th>ªã</th>\n",
       "      <th>µgod</th>\n",
       "      <th>µã</th>\n",
       "      <th>ºit</th>\n",
       "      <th>ºsoffierose</th>\n",
       "      <th>ºthat</th>\n",
       "      <th>ºwhy</th>\n",
       "      <th>ºº</th>\n",
       "      <th>ºã</th>\n",
       "    </tr>\n",
       "  </thead>\n",
       "  <tbody>\n",
       "    <tr>\n",
       "      <th>0</th>\n",
       "      <td>[chess, mlittle801, breezeslc, fitness, nofilt...</td>\n",
       "      <td>0</td>\n",
       "      <td>0</td>\n",
       "      <td>0</td>\n",
       "      <td>0</td>\n",
       "      <td>0</td>\n",
       "      <td>0</td>\n",
       "      <td>0</td>\n",
       "      <td>0</td>\n",
       "      <td>0</td>\n",
       "      <td>...</td>\n",
       "      <td>0.0</td>\n",
       "      <td>0.0</td>\n",
       "      <td>0.0</td>\n",
       "      <td>0.0</td>\n",
       "      <td>0.0</td>\n",
       "      <td>0.0</td>\n",
       "      <td>0.0</td>\n",
       "      <td>0.0</td>\n",
       "      <td>0.0</td>\n",
       "      <td>0.0</td>\n",
       "    </tr>\n",
       "    <tr>\n",
       "      <th>1</th>\n",
       "      <td>[bet, thats, left, feeding, think, actually, b...</td>\n",
       "      <td>0</td>\n",
       "      <td>0</td>\n",
       "      <td>0</td>\n",
       "      <td>0</td>\n",
       "      <td>0</td>\n",
       "      <td>0</td>\n",
       "      <td>0</td>\n",
       "      <td>0</td>\n",
       "      <td>0</td>\n",
       "      <td>...</td>\n",
       "      <td>0.0</td>\n",
       "      <td>0.0</td>\n",
       "      <td>0.0</td>\n",
       "      <td>0.0</td>\n",
       "      <td>0.0</td>\n",
       "      <td>0.0</td>\n",
       "      <td>0.0</td>\n",
       "      <td>0.0</td>\n",
       "      <td>0.0</td>\n",
       "      <td>0.0</td>\n",
       "    </tr>\n",
       "    <tr>\n",
       "      <th>2</th>\n",
       "      <td>[happiness, find, happiness, today, happiness,...</td>\n",
       "      <td>0</td>\n",
       "      <td>0</td>\n",
       "      <td>0</td>\n",
       "      <td>0</td>\n",
       "      <td>0</td>\n",
       "      <td>0</td>\n",
       "      <td>0</td>\n",
       "      <td>0</td>\n",
       "      <td>0</td>\n",
       "      <td>...</td>\n",
       "      <td>0.0</td>\n",
       "      <td>0.0</td>\n",
       "      <td>0.0</td>\n",
       "      <td>0.0</td>\n",
       "      <td>0.0</td>\n",
       "      <td>0.0</td>\n",
       "      <td>0.0</td>\n",
       "      <td>0.0</td>\n",
       "      <td>0.0</td>\n",
       "      <td>0.0</td>\n",
       "    </tr>\n",
       "    <tr>\n",
       "      <th>3</th>\n",
       "      <td>[listen, beautiful, best, friend, singing, ama...</td>\n",
       "      <td>0</td>\n",
       "      <td>0</td>\n",
       "      <td>0</td>\n",
       "      <td>0</td>\n",
       "      <td>0</td>\n",
       "      <td>0</td>\n",
       "      <td>0</td>\n",
       "      <td>0</td>\n",
       "      <td>0</td>\n",
       "      <td>...</td>\n",
       "      <td>0.0</td>\n",
       "      <td>0.0</td>\n",
       "      <td>0.0</td>\n",
       "      <td>0.0</td>\n",
       "      <td>0.0</td>\n",
       "      <td>0.0</td>\n",
       "      <td>0.0</td>\n",
       "      <td>0.0</td>\n",
       "      <td>0.0</td>\n",
       "      <td>0.0</td>\n",
       "    </tr>\n",
       "    <tr>\n",
       "      <th>4</th>\n",
       "      <td>[free, jesuismilo]</td>\n",
       "      <td>0</td>\n",
       "      <td>0</td>\n",
       "      <td>0</td>\n",
       "      <td>0</td>\n",
       "      <td>0</td>\n",
       "      <td>0</td>\n",
       "      <td>0</td>\n",
       "      <td>0</td>\n",
       "      <td>0</td>\n",
       "      <td>...</td>\n",
       "      <td>0.0</td>\n",
       "      <td>0.0</td>\n",
       "      <td>0.0</td>\n",
       "      <td>0.0</td>\n",
       "      <td>0.0</td>\n",
       "      <td>0.0</td>\n",
       "      <td>0.0</td>\n",
       "      <td>0.0</td>\n",
       "      <td>0.0</td>\n",
       "      <td>0.0</td>\n",
       "    </tr>\n",
       "  </tbody>\n",
       "</table>\n",
       "<p>5 rows × 62854 columns</p>\n",
       "</div>"
      ],
      "text/plain": [
       "                                               Tweet  Label  000  001  \\\n",
       "0  [chess, mlittle801, breezeslc, fitness, nofilt...      0    0    0   \n",
       "1  [bet, thats, left, feeding, think, actually, b...      0    0    0   \n",
       "2  [happiness, find, happiness, today, happiness,...      0    0    0   \n",
       "3  [listen, beautiful, best, friend, singing, ama...      0    0    0   \n",
       "4                                 [free, jesuismilo]      0    0    0   \n",
       "\n",
       "   003junior  00h30  01  0161  019  01926889917  ...  ªvotetrump   ªã  µgod  \\\n",
       "0          0      0   0     0    0            0  ...         0.0  0.0   0.0   \n",
       "1          0      0   0     0    0            0  ...         0.0  0.0   0.0   \n",
       "2          0      0   0     0    0            0  ...         0.0  0.0   0.0   \n",
       "3          0      0   0     0    0            0  ...         0.0  0.0   0.0   \n",
       "4          0      0   0     0    0            0  ...         0.0  0.0   0.0   \n",
       "\n",
       "    µã  ºit  ºsoffierose  ºthat  ºwhy   ºº   ºã  \n",
       "0  0.0  0.0          0.0    0.0   0.0  0.0  0.0  \n",
       "1  0.0  0.0          0.0    0.0   0.0  0.0  0.0  \n",
       "2  0.0  0.0          0.0    0.0   0.0  0.0  0.0  \n",
       "3  0.0  0.0          0.0    0.0   0.0  0.0  0.0  \n",
       "4  0.0  0.0          0.0    0.0   0.0  0.0  0.0  \n",
       "\n",
       "[5 rows x 62854 columns]"
      ]
     },
     "execution_count": 18,
     "metadata": {},
     "output_type": "execute_result"
    }
   ],
   "source": [
    "vocab_counts = pd.DataFrame(X_train_wc.toarray(), columns=vectorizer.get_feature_names_out())\n",
    "\n",
    "# Concatenate vocab_counts with the original tweets_train dataframe\n",
    "tweets_train = pd.concat([tweets_train, vocab_counts], axis=1)\n",
    "tweets_train.head()"
   ]
  },
  {
   "cell_type": "code",
   "execution_count": 19,
   "metadata": {},
   "outputs": [
    {
     "name": "stdout",
     "output_type": "stream",
     "text": [
      "Shape of X_train: (25569, 31426)\n",
      "Shape of y_train: (25569,)\n",
      "Shape of X_test: (6393, 31426)\n",
      "Shape of y_test: (6393,)\n"
     ]
    }
   ],
   "source": [
    "# Convert y_train and y_test to array\n",
    "y_train = np.array(tweets_train['Label'])\n",
    "y_test = np.array(tweets_test['Label'])\n",
    "\n",
    "# Create X_test_wc using sklearn CountVectorizer\n",
    "corpus = tweets_test['Tweet'].apply(clean_tweet).apply(lambda x:' '.join(x))\n",
    "X_test_wc = vectorizer.transform(corpus)\n",
    "\n",
    "# Ensure the shape of X, y in training and test set is correct\n",
    "print(\"Shape of X_train: {}\".format(X_train_wc.shape))\n",
    "print(\"Shape of y_train: {}\".format(y_train.shape))\n",
    "print(\"Shape of X_test: {}\".format(X_test_wc.shape))\n",
    "print(\"Shape of y_test: {}\".format(y_test.shape))"
   ]
  },
  {
   "cell_type": "code",
   "execution_count": 20,
   "metadata": {},
   "outputs": [
    {
     "data": {
      "text/plain": [
       "0.9402471453151885"
      ]
     },
     "execution_count": 20,
     "metadata": {},
     "output_type": "execute_result"
    }
   ],
   "source": [
    "clf = MultinomialNB() \n",
    "clf.fit(X_train_wc, y_train)\n",
    "clf.score(X_test_wc, y_test)"
   ]
  },
  {
   "cell_type": "code",
   "execution_count": 21,
   "metadata": {},
   "outputs": [
    {
     "data": {
      "image/png": "[encoded data removed]",
      "text/plain": [
       "<Figure size 432x288 with 2 Axes>"
      ]
     },
     "metadata": {
      "needs_background": "light"
     },
     "output_type": "display_data"
    }
   ],
   "source": [
    "# Generate confusion matrix plot\n",
    "y_pred = clf.predict(X_test_wc)\n",
    "cm = confusion_matrix(y_test, y_pred, labels=clf.classes_)\n",
    "disp = ConfusionMatrixDisplay(confusion_matrix=cm, display_labels=clf.classes_)\n",
    "disp.plot()\n",
    "plt.show()"
   ]
  },
  {
   "cell_type": "code",
   "execution_count": 22,
   "metadata": {},
   "outputs": [
    {
     "data": {
      "text/plain": [
       "0.9594869388393555"
      ]
     },
     "execution_count": 22,
     "metadata": {},
     "output_type": "execute_result"
    }
   ],
   "source": [
    "from sklearn import svm\n",
    "svc = svm.SVC()\n",
    "svc.fit(X_train_wc, y_train)\n",
    "svc.score(X_test_wc, y_test)"
   ]
  },
  {
   "cell_type": "code",
   "execution_count": 23,
   "metadata": {},
   "outputs": [
    {
     "data": {
      "image/png": "[encoded data removed]",
      "text/plain": [
       "<Figure size 432x288 with 2 Axes>"
      ]
     },
     "metadata": {
      "needs_background": "light"
     },
     "output_type": "display_data"
    }
   ],
   "source": [
    "# Generate confusion matrix plot\n",
    "y_pred = svc.predict(X_test_wc)\n",
    "cm = confusion_matrix(y_test, y_pred, labels=svc.classes_)\n",
    "disp = ConfusionMatrixDisplay(confusion_matrix=cm, display_labels=svc.classes_)\n",
    "disp.plot()\n",
    "plt.show()"
   ]
  },
  {
   "cell_type": "code",
   "execution_count": 24,
   "metadata": {},
   "outputs": [
    {
     "data": {
      "text/plain": [
       "0.9655873611762865"
      ]
     },
     "execution_count": 24,
     "metadata": {},
     "output_type": "execute_result"
    }
   ],
   "source": [
    "svc = svm.SVC(C= 10, kernel= 'rbf')\n",
    "svc.fit(X_train_wc, y_train)\n",
    "svc.score(X_test_wc, y_test)"
   ]
  },
  {
   "cell_type": "code",
   "execution_count": 25,
   "metadata": {},
   "outputs": [
    {
     "data": {
      "image/png": "[encoded data removed]",
      "text/plain": [
       "<Figure size 432x288 with 2 Axes>"
      ]
     },
     "metadata": {
      "needs_background": "light"
     },
     "output_type": "display_data"
    }
   ],
   "source": [
    "# Generate confusion matrix plot\n",
    "y_pred = svc.predict(X_test_wc)\n",
    "cm = confusion_matrix(y_test, y_pred, labels=svc.classes_)\n",
    "disp = ConfusionMatrixDisplay(confusion_matrix=cm, display_labels=svc.classes_)\n",
    "disp.plot()\n",
    "plt.show()"
   ]
  },
  {
   "cell_type": "code",
   "execution_count": null,
   "metadata": {},
   "outputs": [],
   "source": []
  }
 ],
 "metadata": {
  "interpreter": {
   "hash": "aee8b7b246df8f9039afb4144a1f6fd8d2ca17a180786b69acc140d282b71a49"
  },
  "kernelspec": {
   "display_name": "Python 3.9.7 64-bit",
   "language": "python",
   "name": "python3"
  },
  "language_info": {
   "codemirror_mode": {
    "name": "ipython",
    "version": 3
   },
   "file_extension": ".py",
   "mimetype": "text/x-python",
   "name": "python",
   "nbconvert_exporter": "python",
   "pygments_lexer": "ipython3",
   "version": "3.9.7"
  },
  "orig_nbformat": 4
 },
 "nbformat": 4,
 "nbformat_minor": 2
}
